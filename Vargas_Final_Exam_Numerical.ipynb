{
  "nbformat": 4,
  "nbformat_minor": 0,
  "metadata": {
    "colab": {
      "name": "Vargas_Final Exam Numerical.ipynb",
      "provenance": [],
      "authorship_tag": "ABX9TyPtbL4BaQFuBKDqUxZignDM",
      "include_colab_link": true
    },
    "kernelspec": {
      "name": "python3",
      "display_name": "Python 3"
    },
    "language_info": {
      "name": "python"
    }
  },
  "cells": [
    {
      "cell_type": "markdown",
      "metadata": {
        "id": "view-in-github",
        "colab_type": "text"
      },
      "source": [
        "<a href=\"https://colab.research.google.com/github/vargas0721/Numerical-Methods---58011/blob/main/Vargas_Final_Exam_Numerical.ipynb\" target=\"_parent\"><img src=\"https://colab.research.google.com/assets/colab-badge.svg\" alt=\"Open In Colab\"/></a>"
      ]
    },
    {
      "cell_type": "code",
      "execution_count": 19,
      "metadata": {
        "colab": {
          "base_uri": "https://localhost:8080/"
        },
        "id": "UTe5vJ79qFc0",
        "outputId": "235f2916-a9b4-4910-a6ba-ba8bf61b7a48"
      },
      "outputs": [
        {
          "output_type": "stream",
          "name": "stdout",
          "text": [
            "The integrated result is 2.350402 or (+-2.60947e-14)\n"
          ]
        }
      ],
      "source": [
        "from math import exp\n",
        "from scipy.integrate import quad\n",
        "def f(x): return exp(x) #define the trigonometric function\n",
        "\n",
        "res, err = quad (f, -1, 1) #value of summation\n",
        "\n",
        "print(\"The integrated result is {:f} or (+-{:g})\".format(res, err))"
      ]
    }
  ]
}