{
  "nbformat": 4,
  "nbformat_minor": 0,
  "metadata": {
    "colab": {
      "name": "Vargas_Final Exam Numerical.ipynb",
      "provenance": [],
      "authorship_tag": "ABX9TyOUJIUq+jLTo4CdHlYbpgvy",
      "include_colab_link": true
    },
    "kernelspec": {
      "name": "python3",
      "display_name": "Python 3"
    },
    "language_info": {
      "name": "python"
    }
  },
  "cells": [
    {
      "cell_type": "markdown",
      "metadata": {
        "id": "view-in-github",
        "colab_type": "text"
      },
      "source": [
        "<a href=\"https://colab.research.google.com/github/vargas0721/Numerical-Methods---58011/blob/main/Vargas_Final_Exam_Numerical.ipynb\" target=\"_parent\"><img src=\"https://colab.research.google.com/assets/colab-badge.svg\" alt=\"Open In Colab\"/></a>"
      ]
    },
    {
      "cell_type": "code",
      "execution_count": 21,
      "metadata": {
        "colab": {
          "base_uri": "https://localhost:8080/"
        },
        "id": "UTe5vJ79qFc0",
        "outputId": "ba8af830-23a5-4ff8-c43d-c1ab7ed19f5b"
      },
      "outputs": [
        {
          "output_type": "stream",
          "name": "stdout",
          "text": [
            "Integral = 2.1731\n"
          ]
        }
      ],
      "source": [
        "from math import exp\n",
        "def f(x): return exp(x) #define the trigonometric function\n",
        "\n",
        "a = -1\n",
        "b = 1\n",
        "n = 10\n",
        "h = (b-a)/n     #Width of the trapezoid\n",
        "S = h * (f(a)+f(b))     #Value of Summation\n",
        "\n",
        "for i in range (1,n):\n",
        "    S += f(a+i*h)\n",
        "Integral = S*h\n",
        "print ('Integral = %0.4f' %Integral)"
      ]
    }
  ]
}