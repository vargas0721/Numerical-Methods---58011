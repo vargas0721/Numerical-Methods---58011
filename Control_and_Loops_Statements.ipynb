{
  "nbformat": 4,
  "nbformat_minor": 0,
  "metadata": {
    "colab": {
      "name": "Control and Loops Statements.ipynb",
      "provenance": [],
      "collapsed_sections": [],
      "authorship_tag": "ABX9TyOawdnz6+6MqFn3J/ZRt4Gy",
      "include_colab_link": true
    },
    "kernelspec": {
      "name": "python3",
      "display_name": "Python 3"
    },
    "language_info": {
      "name": "python"
    }
  },
  "cells": [
    {
      "cell_type": "markdown",
      "metadata": {
        "id": "view-in-github",
        "colab_type": "text"
      },
      "source": [
        "<a href=\"https://colab.research.google.com/github/vargas0721/Numerical-Methods---58011/blob/main/Control_and_Loops_Statements.ipynb\" target=\"_parent\"><img src=\"https://colab.research.google.com/assets/colab-badge.svg\" alt=\"Open In Colab\"/></a>"
      ]
    },
    {
      "cell_type": "markdown",
      "source": [
        "# If Statement"
      ],
      "metadata": {
        "id": "ntUeVXyHbqj6"
      }
    },
    {
      "cell_type": "code",
      "execution_count": null,
      "metadata": {
        "id": "6ZRsS3yXbbIr"
      },
      "outputs": [],
      "source": [
        "a = 100\n",
        "b = 100\n",
        "\n",
        "if b>a:\n",
        "  print(\"b is greater than a\")"
      ]
    },
    {
      "cell_type": "markdown",
      "source": [
        "# Elif Statement"
      ],
      "metadata": {
        "id": "NOn9KPszcImB"
      }
    },
    {
      "cell_type": "code",
      "source": [
        "if b>a:\n",
        "  print(\"b is greater than a\")\n",
        "elif a>b:\n",
        "  print(\"a is greater than b\")"
      ],
      "metadata": {
        "colab": {
          "base_uri": "https://localhost:8080/"
        },
        "id": "lwvVMJ4YczNo",
        "outputId": "d1901ede-55a2-41e9-81cb-e4dea032e871"
      },
      "execution_count": null,
      "outputs": [
        {
          "output_type": "stream",
          "name": "stdout",
          "text": [
            "b is greater than a\n"
          ]
        }
      ]
    },
    {
      "cell_type": "markdown",
      "source": [
        "# Else Statement"
      ],
      "metadata": {
        "id": "Uckwb6SLdrRf"
      }
    },
    {
      "cell_type": "code",
      "source": [
        "if b>a:\n",
        "  print(\"b is greater than a\")\n",
        "elif a>b:\n",
        "  print(\"a is greater than b\")\n",
        "else:\n",
        "  print(\"a is equal to b\")"
      ],
      "metadata": {
        "colab": {
          "base_uri": "https://localhost:8080/"
        },
        "id": "hfLl4VKAdtz4",
        "outputId": "1030628f-a7ec-42c9-8797-b63a6c9db07f"
      },
      "execution_count": null,
      "outputs": [
        {
          "output_type": "stream",
          "name": "stdout",
          "text": [
            "a is equal to b\n"
          ]
        }
      ]
    },
    {
      "cell_type": "markdown",
      "source": [
        "# Short Hand If Statement"
      ],
      "metadata": {
        "id": "pJsScs5SeG1P"
      }
    },
    {
      "cell_type": "code",
      "source": [
        "a = 12\n",
        "b = 100\n",
        "if b>a: print(\"b is greater than a\")"
      ],
      "metadata": {
        "colab": {
          "base_uri": "https://localhost:8080/"
        },
        "id": "ljeom4YxeJ1_",
        "outputId": "06cc6c32-930b-4572-f562-b122f7eebbc9"
      },
      "execution_count": null,
      "outputs": [
        {
          "output_type": "stream",
          "name": "stdout",
          "text": [
            "b is greater than a\n"
          ]
        }
      ]
    },
    {
      "cell_type": "markdown",
      "source": [
        "# Short Hand If.. Else Statement"
      ],
      "metadata": {
        "id": "h4UVh_IheeX3"
      }
    },
    {
      "cell_type": "code",
      "source": [
        "c = 35\n",
        "d = 40\n",
        "\n",
        "print(\"c is greater than d\") if c>d else print(\"d is greater than c\")"
      ],
      "metadata": {
        "id": "1N7_8ROQeqaL"
      },
      "execution_count": null,
      "outputs": []
    },
    {
      "cell_type": "markdown",
      "source": [
        "# And logic - if both statements or operands are true "
      ],
      "metadata": {
        "id": "qmZ8VtUufTjh"
      }
    },
    {
      "cell_type": "code",
      "source": [
        "c = 35\n",
        "d = 40\n",
        "e = 30\n",
        "\n",
        "if d>c and c>e:\n",
        "  print(\"Both conditions must be True\")"
      ],
      "metadata": {
        "colab": {
          "base_uri": "https://localhost:8080/"
        },
        "id": "BlpBBY3VfnhA",
        "outputId": "99d1ae4d-3101-4d12-9ab7-20325d0b0bfd"
      },
      "execution_count": null,
      "outputs": [
        {
          "output_type": "stream",
          "name": "stdout",
          "text": [
            "Both conditions must be True\n"
          ]
        }
      ]
    },
    {
      "cell_type": "markdown",
      "source": [
        "# Or logic - if one of the operands is True"
      ],
      "metadata": {
        "id": "KHReFpFfgGn3"
      }
    },
    {
      "cell_type": "code",
      "source": [
        "if d>c or e>c:\n",
        "  print(\"If one of the two operands is True\")"
      ],
      "metadata": {
        "colab": {
          "base_uri": "https://localhost:8080/"
        },
        "id": "Wpk3NCYPgJ4P",
        "outputId": "cb8cf1a2-5495-4b1b-813d-8d029790afb0"
      },
      "execution_count": null,
      "outputs": [
        {
          "output_type": "stream",
          "name": "stdout",
          "text": [
            "If one of the two operands is True\n"
          ]
        }
      ]
    },
    {
      "cell_type": "markdown",
      "source": [
        "# Nested If"
      ],
      "metadata": {
        "id": "TqhBDrY2hATP"
      }
    },
    {
      "cell_type": "code",
      "source": [
        "x = int(input())\n",
        "\n",
        "if x>10:\n",
        "  print(\"x is above 10\")\n",
        "  if x>20:\n",
        "    print(\"x is above 20\")\n",
        "    if x>30:\n",
        "      print(\"x is above 30\")\n",
        "      if x>40:\n",
        "        print(\"x is above 40\")\n",
        "      else:\n",
        "        print(\"x is not above 40\")\n",
        "    else:\n",
        "      print(\"x is not above 30\")\n",
        "  else:\n",
        "    print(\"x is not above 20\")\n",
        "       \n",
        "\n",
        "  "
      ],
      "metadata": {
        "colab": {
          "base_uri": "https://localhost:8080/"
        },
        "id": "djva4IWOhBkP",
        "outputId": "ff70efb6-52c7-41de-f3a5-26a525688d85"
      },
      "execution_count": null,
      "outputs": [
        {
          "output_type": "stream",
          "name": "stdout",
          "text": [
            "35\n",
            "x is above 10\n",
            "x is above 20\n",
            "x is above 30\n",
            "x is not above 40\n"
          ]
        }
      ]
    },
    {
      "cell_type": "markdown",
      "source": [
        "# Application 1 - Write a program that determines if the input age is qualified to vote or not. The qualifying age is 18 years old and above."
      ],
      "metadata": {
        "id": "dZCCvSKci2cZ"
      }
    },
    {
      "cell_type": "code",
      "source": [
        "age = int(input())\n",
        "\n",
        "\n",
        "if age>=18:\n",
        "  print(\"You are qualified to vote\")\n",
        "else:\n",
        "  print(\"You are not qualified to vote\")"
      ],
      "metadata": {
        "colab": {
          "base_uri": "https://localhost:8080/"
        },
        "id": "7oWS9pgDi_Vg",
        "outputId": "358fa1b5-4657-4418-a14f-d3b719bb67d8"
      },
      "execution_count": null,
      "outputs": [
        {
          "output_type": "stream",
          "name": "stdout",
          "text": [
            "14\n",
            "You are not qualified to vote\n"
          ]
        }
      ]
    },
    {
      "cell_type": "markdown",
      "source": [
        "# Application 2 - Write a program that determines if the input number is POSITITVE, NEGATIVE, or Zero"
      ],
      "metadata": {
        "id": "289FVuFpj3y_"
      }
    },
    {
      "cell_type": "code",
      "source": [
        "input_number = int(input())\n",
        "\n",
        "if input_number > 0:\n",
        "  print('The number is positive.')\n",
        "elif input_number < 0:\n",
        "  print('The number is negative.')\n",
        "else:\n",
        "  print('The number is zero.')"
      ],
      "metadata": {
        "id": "khUyYUqdknSf",
        "colab": {
          "base_uri": "https://localhost:8080/"
        },
        "outputId": "fd97f5fd-ab25-4322-b05e-f2ea23656eb4"
      },
      "execution_count": 51,
      "outputs": [
        {
          "output_type": "stream",
          "name": "stdout",
          "text": [
            "1\n",
            "The number is positive.\n"
          ]
        }
      ]
    },
    {
      "cell_type": "markdown",
      "source": [
        "# For Loop Statement"
      ],
      "metadata": {
        "id": "wUnoobM8knjv"
      }
    },
    {
      "cell_type": "code",
      "source": [
        "week = [\"Sunday\",\"Monday\",\"Tuesday\",\"Wednesday\",\"Thursday\",\"Friday\",\"Saturday\"]\n",
        "\n",
        "for x in week:\n",
        "  print(x)"
      ],
      "metadata": {
        "colab": {
          "base_uri": "https://localhost:8080/"
        },
        "id": "l0oRBZGvkqjg",
        "outputId": "72f2af9c-0ea6-41dc-c4d0-2f4dc17a2e26"
      },
      "execution_count": null,
      "outputs": [
        {
          "output_type": "stream",
          "name": "stdout",
          "text": [
            "Sunday\n",
            "Monday\n",
            "Tuesday\n",
            "Wednesday\n",
            "Thursday\n",
            "Friday\n",
            "Saturday\n"
          ]
        }
      ]
    },
    {
      "cell_type": "markdown",
      "source": [
        "# The Break Statement"
      ],
      "metadata": {
        "id": "L3TC0v31lIwq"
      }
    },
    {
      "cell_type": "code",
      "source": [
        "for x in week:\n",
        "  print(x)\n",
        "\n",
        "  if x==\"Thursday\":\n",
        "   break"
      ],
      "metadata": {
        "colab": {
          "base_uri": "https://localhost:8080/"
        },
        "id": "e2Hyqc-NlLtv",
        "outputId": "77ce6451-b68c-4cbf-94c6-cc5943c26cca"
      },
      "execution_count": null,
      "outputs": [
        {
          "output_type": "stream",
          "name": "stdout",
          "text": [
            "Sunday\n",
            "Monday\n",
            "Tuesday\n",
            "Wednesday\n",
            "Thursday\n"
          ]
        }
      ]
    },
    {
      "cell_type": "markdown",
      "source": [
        "# While Loop"
      ],
      "metadata": {
        "id": "dFfIWjc6laps"
      }
    },
    {
      "cell_type": "code",
      "source": [
        "y = 3\n",
        "\n",
        "while y<6:\n",
        "  print(y)\n",
        "  if y == 3:\n",
        "    break\n",
        "  y+=1 #same as y = y + 1"
      ],
      "metadata": {
        "colab": {
          "base_uri": "https://localhost:8080/"
        },
        "id": "wvQSU98dlshZ",
        "outputId": "e77883b9-d5ff-460a-af2b-ad4515bf262a"
      },
      "execution_count": null,
      "outputs": [
        {
          "output_type": "stream",
          "name": "stdout",
          "text": [
            "3\n"
          ]
        }
      ]
    }
  ]
}